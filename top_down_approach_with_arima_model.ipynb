{
 "cells": [
  {
   "cell_type": "code",
   "execution_count": null,
   "metadata": {
    "colab": {
     "base_uri": "https://localhost:8080/",
     "height": 235
    },
    "colab_type": "code",
    "id": "N9go6UEznZbD",
    "outputId": "bb33f3e8-61fd-4a2f-e2bc-8603b88584a8"
   },
   "outputs": [],
   "source": [
    "!pip install pmdarima"
   ]
  },
  {
   "cell_type": "code",
   "execution_count": null,
   "metadata": {
    "colab": {},
    "colab_type": "code",
    "id": "Iuk2mnZGnZZ1"
   },
   "outputs": [],
   "source": [
    "from pmdarima.arima import auto_arima,OCSBTest,KPSSTest,ADFTest\n",
    "from tqdm import tqdm\n",
    "from sklearn import metrics\n",
    "import pandas as pd\n",
    "import numpy as np\n",
    "import os\n",
    "# from stationarizer import simple_auto_stationarize\n",
    "%matplotlib inline"
   ]
  },
  {
   "cell_type": "code",
   "execution_count": null,
   "metadata": {},
   "outputs": [],
   "source": [
    "calendar = pd.read_csv(\"calendar.csv\")\n",
    "sales_data = pd.read_csv(\"sales_train_validation.csv\")\n",
    "eval_data = pd.read_csv(\"sales_train_evaluation.csv\")\n",
    "sell_price = pd.read_csv(\"sell_prices.csv\")\n",
    "submissions = pd.read_csv(\"sample_submission.csv\")"
   ]
  },
  {
   "cell_type": "code",
   "execution_count": null,
   "metadata": {
    "colab": {
     "base_uri": "https://localhost:8080/",
     "height": 392
    },
    "colab_type": "code",
    "id": "DWmv5tJm3D9n",
    "outputId": "fc8ca97b-1d1a-4088-cb65-a58272fb07d2"
   },
   "outputs": [],
   "source": [
    "eval_data.head(10)"
   ]
  },
  {
   "cell_type": "code",
   "execution_count": null,
   "metadata": {
    "colab": {},
    "colab_type": "code",
    "id": "LTExgfp9nZUD"
   },
   "outputs": [],
   "source": [
    "eval_data['cat_id']  = (eval_data['store_id'] + '_' + eval_data['cat_id'])\n",
    "eval_data['dept_id'] = (eval_data['store_id'] + '_' + eval_data['dept_id'])\n",
    "eval_data['id'] = (eval_data['store_id'] + '_' + eval_data['id'])\n",
    "days = ['d_'+str(i) for i in range(1,1549)]\n",
    "eval_data = eval_data.drop(columns=days)"
   ]
  },
  {
   "cell_type": "code",
   "execution_count": null,
   "metadata": {
    "colab": {},
    "colab_type": "code",
    "id": "iOHUsSaDoqNp"
   },
   "outputs": [],
   "source": [
    "hierarchy = {0: \"state_id\", 1: \"store_id\", 2: \"cat_id\", 3: \"dept_id\", 4: \"id\"}"
   ]
  },
  {
   "cell_type": "code",
   "execution_count": null,
   "metadata": {
    "colab": {},
    "colab_type": "code",
    "id": "B5d6c9sbTj1P"
   },
   "outputs": [],
   "source": [
    "## make heirarchical dataframe \n",
    "def generate_heirarchy(eval_data):\n",
    "    final_work = pd.DataFrame()\n",
    "    for i in hierarchy:\n",
    "      col = hierarchy[i]\n",
    "      df_1 = eval_data.groupby(by = [col],as_index= False).sum()\n",
    "      data_final = df_1.T\n",
    "      data_final.columns = data_final.loc[col]\n",
    "      data_final=data_final.drop(col)\n",
    "      if final_work.empty:\n",
    "        final_work = data_final.copy()\n",
    "      else:\n",
    "        final_work = pd.merge(final_work,data_final,left_index=True, right_index=True)\n",
    "    final_work['total'] = final_work['CA']+final_work['TX']+final_work['WI']\n",
    "    final_work= final_work.T\n",
    "    final_work.to_csv(\"final_work.csv\")\n",
    "    return final_work"
   ]
  },
  {
   "cell_type": "code",
   "execution_count": null,
   "metadata": {
    "colab": {},
    "colab_type": "code",
    "id": "1zPUwF24ranW"
   },
   "outputs": [],
   "source": [
    "# remove trends and/or seasonality from the data using OSCB test\n",
    "\n",
    "def stationarize(one, counter=0):    \n",
    "    try:\n",
    "        trend_result = ADFTest().should_diff(one)[1]  \n",
    "        if trend_result and counter<2:\n",
    "            one = one.diff()\n",
    "            one =one.dropna()\n",
    "            counter += 1\n",
    "            one = stationarize(one, counter)\n",
    "    except:\n",
    "        None\n",
    "    return one\n",
    "\n",
    "def season_stationary(one):\n",
    "    try:\n",
    "        season_result = OCSBTest(m=30).estimate_seasonal_differencing_term(one)\n",
    "        if season_result:\n",
    "            one = one.diff(30)\n",
    "            one =one.dropna()\n",
    "    except:\n",
    "        None\n",
    "    return one\n",
    "  \n"
   ]
  },
  {
   "cell_type": "code",
   "execution_count": null,
   "metadata": {
    "colab": {
     "base_uri": "https://localhost:8080/",
     "height": 387
    },
    "colab_type": "code",
    "id": "41LtSfQxrtEf",
    "outputId": "b6f1b702-d5f6-4047-c372-3b940c160011"
   },
   "outputs": [],
   "source": [
    "# make predictions for the entire heirarchy on each level\n",
    "\n",
    "# I call this function on different ranges on different machines at the same time  \n",
    "\n",
    "def make_predictions(final_work, start=0, end=0):\n",
    "    if end==0:\n",
    "        end = final_work.shape[0]\n",
    "    for i in tqdm(range(start,end), position=0, leave=True):\n",
    "        one = final_work.iloc[i]\n",
    "        id = final_work.index[i]\n",
    "        # one = one.drop(['id'])\n",
    "        one = stationarize(one)\n",
    "        one = season_stationary(one)\n",
    "        model_fit = auto_arima(one, m=1, suppress_warnings = True, error_action=\"ignore\")\n",
    "        pred = model_fit.predict(28)\n",
    "        result_sales.loc[id] = pred\n",
    "\n",
    "    result_sales.dropna()\n",
    "    num = result_sales._get_numeric_data()\n",
    "    num[num < 0] = 0\n",
    "    result_sales.to_csv(f'eval_{start}.csv')\n",
    "\n",
    "    return result_sales\n"
   ]
  },
  {
   "cell_type": "code",
   "execution_count": null,
   "metadata": {},
   "outputs": [],
   "source": [
    "final_work = generate_heirarchy(sales_data)\n",
    "pred_days= ['F'+ str(i) for i in range(1,29)]\n",
    "result_sales = pd.DataFrame(columns=pred_days, index = final_work.index)\n",
    "make_predictions(final_work)"
   ]
  },
  {
   "cell_type": "code",
   "execution_count": null,
   "metadata": {},
   "outputs": [],
   "source": [
    "total_pred = pd.read_csv('eval_final.csv')"
   ]
  },
  {
   "cell_type": "code",
   "execution_count": null,
   "metadata": {},
   "outputs": [],
   "source": [
    "states = eval_data.state_id.unique()\n",
    "stores = eval_data.store_id.unique()\n",
    "depts = eval_data.dept_id.unique()\n",
    "cats = eval_data.cat_id.unique()\n",
    "items = eval_data.id.unique()\n",
    "\n",
    "# Here we build the tree as a dictionary. Each node (key in dict) has a list of \n",
    "# children value in dict, which in turn may also be a key in the dict, and have \n",
    "# children as well \n",
    "\n",
    "total = {'total': list(states)}\n",
    "state_h = {k: [v for v in stores if v.startswith(k)] for k in states}\n",
    "store_h = {k: [v for v in cats if v.startswith(k)] for k in stores}\n",
    "dept_h = {k: [v for v in depts if v.startswith(k)] for k in cats}\n",
    "item_h = {k: [v for v in items if v.startswith(k)] for k in depts}"
   ]
  },
  {
   "cell_type": "code",
   "execution_count": null,
   "metadata": {},
   "outputs": [],
   "source": [
    "hier_dict = {**total, **state_h, **store_h, **dept_h, **item_h}\n",
    "hier_total = list(states)+list(stores)+list(cats)+list(depts)\n",
    "hier_total.insert(0,'total')"
   ]
  },
  {
   "cell_type": "code",
   "execution_count": null,
   "metadata": {
    "colab": {},
    "colab_type": "code",
    "id": "OpzGI-_3V7mH"
   },
   "outputs": [],
   "source": [
    "# total_pred.index = total_pred['Unnamed: 0']\n",
    "total_pred = total_pred.rename(columns={'Unnamed: 0':'id'})\n",
    "\n",
    "total_pred = total_pred[~total_pred['id'].isin(hier_total)]"
   ]
  },
  {
   "cell_type": "code",
   "execution_count": null,
   "metadata": {
    "colab": {},
    "colab_type": "code",
    "id": "NiuC2-qfwG5G"
   },
   "outputs": [],
   "source": [
    "hr = eval_data.iloc[:,0:6]\n",
    "heir_pred_valid = pd.merge(hr,total_pred,on = 'id')"
   ]
  },
  {
   "cell_type": "code",
   "execution_count": null,
   "metadata": {
    "colab": {},
    "colab_type": "code",
    "id": "21zeVIKU6y4F"
   },
   "outputs": [],
   "source": [
    "## rework the entire hierarchy after prediction \n",
    "\n",
    "pred_final = generate_heirarchy(heir_pred_valid)"
   ]
  },
  {
   "cell_type": "code",
   "execution_count": null,
   "metadata": {
    "colab": {},
    "colab_type": "code",
    "id": "GM7tccQO7GUY"
   },
   "outputs": [],
   "source": [
    "pred_final.to_csv('pred_all_sums.csv')"
   ]
  },
  {
   "cell_type": "code",
   "execution_count": null,
   "metadata": {
    "colab": {},
    "colab_type": "code",
    "id": "vuqWZliotJLx"
   },
   "outputs": [],
   "source": [
    "all_predi = pd.read_csv('eval_final.csv')\n",
    "all_sum = pd.read_csv('pred_all_sums.csv')"
   ]
  },
  {
   "cell_type": "code",
   "execution_count": null,
   "metadata": {},
   "outputs": [],
   "source": [
    "num = all_predi._get_numeric_data()\n",
    "num[num < 0] = 0"
   ]
  },
  {
   "cell_type": "code",
   "execution_count": null,
   "metadata": {
    "colab": {
     "base_uri": "https://localhost:8080/",
     "height": 290
    },
    "colab_type": "code",
    "id": "uuIzOrZOuF41",
    "outputId": "19ee8f3d-56f3-400d-e50d-444dbf1a88ed"
   },
   "outputs": [],
   "source": [
    "all_sum.head()"
   ]
  },
  {
   "cell_type": "code",
   "execution_count": null,
   "metadata": {
    "colab": {},
    "colab_type": "code",
    "id": "7OrgK_eNZXRM"
   },
   "outputs": [],
   "source": [
    "all_predi.index = all_predi['Unnamed: 0']\n",
    "all_sum.index = all_sum['Unnamed: 0']\n",
    "\n",
    "all_predi = all_predi.drop(columns = ['Unnamed: 0'])\n",
    "all_sum = all_sum.drop(columns = ['Unnamed: 0'])\n",
    "\n",
    "all_predi = all_predi.T\n",
    "all_sum = all_sum.T\n"
   ]
  },
  {
   "cell_type": "code",
   "execution_count": null,
   "metadata": {
    "colab": {},
    "colab_type": "code",
    "id": "C46GT3zdsnA_"
   },
   "outputs": [],
   "source": [
    "# hier_pred = [a for a in final_work.columns if a.endswith('validation')]"
   ]
  },
  {
   "cell_type": "code",
   "execution_count": null,
   "metadata": {
    "colab": {},
    "colab_type": "code",
    "id": "4kqrcpbOPv2O"
   },
   "outputs": [],
   "source": [
    "# getting disaggregation proportions as mentioned by Hyndman\n",
    "\n",
    "## p = Y/S \n",
    "# Y = predictions on that level\n",
    "# S = sum of predictions of all levels below that level\n",
    "\n",
    "def get_proportions(Y, S):\n",
    "  Y_arr = Y.to_numpy(dtype='float32')\n",
    "  S_arr = S.to_numpy(dtype='float32')\n",
    "  P_arr = np.true_divide(Y_arr,S_arr, out=np.zeros_like(Y_arr), where=S_arr!=0)\n",
    "  P = pd.Series(P_arr)\n",
    "  return P"
   ]
  },
  {
   "cell_type": "code",
   "execution_count": null,
   "metadata": {
    "colab": {},
    "colab_type": "code",
    "id": "gylZB1YyHcUH"
   },
   "outputs": [],
   "source": [
    "extremely_final = pd.DataFrame()\n",
    "extremely_final['total'] = all_predi['total'] "
   ]
  },
  {
   "cell_type": "code",
   "execution_count": null,
   "metadata": {
    "colab": {},
    "colab_type": "code",
    "id": "MrQw8tc29EbS"
   },
   "outputs": [],
   "source": [
    "# Now we disaggregate the proportions to each level\n",
    "\n",
    "for i in hier_total:\n",
    "  p = get_proportions(extremely_final[i],all_sum[i])\n",
    "  for j in hier_dict[i]:\n",
    "    x = all_predi[j].to_numpy(dtype='float32')\n",
    "    y = p.to_numpy(dtype='float32')\n",
    "    m = np.multiply(x,y)\n",
    "    extremely_final[j] = m.tolist()"
   ]
  },
  {
   "cell_type": "code",
   "execution_count": null,
   "metadata": {
    "colab": {},
    "colab_type": "code",
    "id": "PVtMT6Mi6m8a"
   },
   "outputs": [],
   "source": [
    "extremely_final = extremely_final.drop(columns=hier_total)\n",
    "extremely_final = extremely_final.T"
   ]
  },
  {
   "cell_type": "code",
   "execution_count": null,
   "metadata": {},
   "outputs": [],
   "source": [
    "extremely_final['id'] = extremely_final.index\n",
    "extremely_final['id'] = extremely_final['id'].str[5:]"
   ]
  },
  {
   "cell_type": "code",
   "execution_count": null,
   "metadata": {
    "colab": {},
    "colab_type": "code",
    "id": "8dYHJtrKgxUZ"
   },
   "outputs": [],
   "source": [
    "extremely_final.to_csv('extremely_final.csv')"
   ]
  }
 ],
 "metadata": {
  "colab": {
   "collapsed_sections": [],
   "name": "top_down approach with arima model.ipynb",
   "provenance": []
  },
  "kernelspec": {
   "display_name": "Python 3",
   "language": "python",
   "name": "python3"
  },
  "language_info": {
   "codemirror_mode": {
    "name": "ipython",
    "version": 3
   },
   "file_extension": ".py",
   "mimetype": "text/x-python",
   "name": "python",
   "nbconvert_exporter": "python",
   "pygments_lexer": "ipython3",
   "version": "3.7.4"
  }
 },
 "nbformat": 4,
 "nbformat_minor": 4
}
